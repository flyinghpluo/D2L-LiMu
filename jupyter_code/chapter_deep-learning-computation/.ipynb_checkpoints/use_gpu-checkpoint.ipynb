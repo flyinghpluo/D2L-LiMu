{
 "cells": [
  {
   "cell_type": "code",
   "execution_count": 6,
   "id": "6f84321a",
   "metadata": {},
   "outputs": [
    {
     "name": "stdout",
     "output_type": "stream",
     "text": [
      "Sun Apr 24 18:39:52 2022       \n",
      "+-----------------------------------------------------------------------------+\n",
      "| NVIDIA-SMI 471.99       Driver Version: 471.99       CUDA Version: 11.4     |\n",
      "|-------------------------------+----------------------+----------------------+\n",
      "| GPU  Name            TCC/WDDM | Bus-Id        Disp.A | Volatile Uncorr. ECC |\n",
      "| Fan  Temp  Perf  Pwr:Usage/Cap|         Memory-Usage | GPU-Util  Compute M. |\n",
      "|                               |                      |               MIG M. |\n",
      "|===============================+======================+======================|\n",
      "|   0  NVIDIA GeForce ... WDDM  | 00000000:01:00.0 Off |                  N/A |\n",
      "| N/A   47C    P0    17W /  N/A |    106MiB /  4096MiB |      0%      Default |\n",
      "|                               |                      |                  N/A |\n",
      "+-------------------------------+----------------------+----------------------+\n",
      "                                                                               \n",
      "+-----------------------------------------------------------------------------+\n",
      "| Processes:                                                                  |\n",
      "|  GPU   GI   CI        PID   Type   Process name                  GPU Memory |\n",
      "|        ID   ID                                                   Usage      |\n",
      "|=============================================================================|\n",
      "|  No running processes found                                                 |\n",
      "+-----------------------------------------------------------------------------+\n"
     ]
    }
   ],
   "source": [
    "! nvidia-smi"
   ]
  },
  {
   "cell_type": "code",
   "execution_count": 9,
   "id": "bb28b123",
   "metadata": {},
   "outputs": [
    {
     "data": {
      "text/plain": [
       "(device(type='cpu'),\n",
       " device(type='cuda'),\n",
       " device(type='cuda', index=0),\n",
       " device(type='cuda', index=1))"
      ]
     },
     "execution_count": 9,
     "metadata": {},
     "output_type": "execute_result"
    }
   ],
   "source": [
    "import torch\n",
    "from torch import nn\n",
    "torch.device('cpu'),torch.device('cuda'),torch.device('cuda:0'),torch.device('cuda:1')#cuda:0表示第1个gpu，cuda:1表示第2个gpu"
   ]
  },
  {
   "cell_type": "code",
   "execution_count": 10,
   "id": "68ac8689",
   "metadata": {},
   "outputs": [
    {
     "data": {
      "text/plain": [
       "1"
      ]
     },
     "execution_count": 10,
     "metadata": {},
     "output_type": "execute_result"
    }
   ],
   "source": [
    "torch.cuda.device_count()#查询gpu个数"
   ]
  },
  {
   "cell_type": "code",
   "execution_count": 17,
   "id": "d87e3563",
   "metadata": {},
   "outputs": [],
   "source": [
    "def get_gpu(i=0):\n",
    "    #如果存在，则返回gpu(i)，否则返回cpu()\n",
    "    if torch.cuda.device_count()>= i+1:\n",
    "        return torch.device(f'cuda:{i}')\n",
    "    return torch.device('cpu')\n",
    "#返回所有可用的GPU，如果没有GPU，则返回[cpu(),]\n",
    "def get_all_gpu():\n",
    "    devices = [torch.device(f'cuda:{i}') for i in range(torch.cuda.device_count())]\n",
    "    return devices if devices else [torch.device('cpu')] #返回值为列表形式\n"
   ]
  },
  {
   "cell_type": "code",
   "execution_count": 18,
   "id": "83a4166a",
   "metadata": {},
   "outputs": [
    {
     "data": {
      "text/plain": [
       "(device(type='cuda', index=0),\n",
       " device(type='cpu'),\n",
       " [device(type='cuda', index=0)])"
      ]
     },
     "execution_count": 18,
     "metadata": {},
     "output_type": "execute_result"
    }
   ],
   "source": [
    "get_gpu(),get_gpu(10),get_all_gpu()"
   ]
  },
  {
   "cell_type": "code",
   "execution_count": 19,
   "id": "3bb43222",
   "metadata": {},
   "outputs": [
    {
     "data": {
      "text/plain": [
       "device(type='cpu')"
      ]
     },
     "execution_count": 19,
     "metadata": {},
     "output_type": "execute_result"
    }
   ],
   "source": [
    "X = torch.tensor([1,2,3])\n",
    "X.device #查询张量所在的设备"
   ]
  },
  {
   "cell_type": "code",
   "execution_count": 22,
   "id": "e6005168",
   "metadata": {},
   "outputs": [
    {
     "data": {
      "text/plain": [
       "(device(type='cuda', index=0), tensor([1, 2, 3], device='cuda:0'))"
      ]
     },
     "execution_count": 22,
     "metadata": {},
     "output_type": "execute_result"
    }
   ],
   "source": [
    "Y = torch.tensor([1,2,3],device = get_gpu())#在GPU上面创建张量\n",
    "#Y = torch.tensor([1,2,3],device = torch.device('cuda')) 与上面代码等价\n",
    "Y.device,Y"
   ]
  },
  {
   "cell_type": "code",
   "execution_count": 27,
   "id": "1176aecf",
   "metadata": {},
   "outputs": [
    {
     "data": {
      "text/plain": [
       "tensor([[0.6150, 0.2178, 0.4462],\n",
       "        [0.8411, 0.1061, 0.0564]], device='cuda:0')"
      ]
     },
     "execution_count": 27,
     "metadata": {},
     "output_type": "execute_result"
    }
   ],
   "source": [
    "Y1 = torch.rand(2, 3, device=get_gpu(0))\n",
    "Y1"
   ]
  },
  {
   "cell_type": "code",
   "execution_count": 37,
   "id": "d72ce1f3",
   "metadata": {},
   "outputs": [
    {
     "data": {
      "text/plain": [
       "tensor([1, 2, 3], device='cuda:0')"
      ]
     },
     "execution_count": 37,
     "metadata": {},
     "output_type": "execute_result"
    }
   ],
   "source": [
    "X_clone = X.cuda(0)#将X复制到gpu0上面\n",
    "X_clone"
   ]
  },
  {
   "cell_type": "code",
   "execution_count": 43,
   "id": "a4d5baa3",
   "metadata": {},
   "outputs": [
    {
     "data": {
      "text/plain": [
       "(tensor([[1.8788, 2.1597, 3.0925],\n",
       "         [1.0752, 2.2283, 3.6227]], device='cuda:0'),\n",
       " tensor([1, 2, 3]),\n",
       " tensor([[1.8788, 2.1597, 3.0925],\n",
       "         [1.0752, 2.2283, 3.6227]], device='cuda:0'))"
      ]
     },
     "execution_count": 43,
     "metadata": {},
     "output_type": "execute_result"
    }
   ],
   "source": [
    "X.cuda(0) + Y ,X ,X_clone+Y #X.cuda(0)并没有把X所在的cpu转移到gpu上面，而是相当于将X复制了一遍并转移到gpu上面，而没有改变X原先所在的设备"
   ]
  },
  {
   "cell_type": "code",
   "execution_count": 36,
   "id": "d379b41d",
   "metadata": {},
   "outputs": [
    {
     "data": {
      "text/plain": [
       "True"
      ]
     },
     "execution_count": 36,
     "metadata": {},
     "output_type": "execute_result"
    }
   ],
   "source": [
    "Y.cuda(0) is Y #Y已经存储在gpu0上，再次调用cuda(0)并不会再次复制一遍，分配新内存，而是直接返回Y"
   ]
  },
  {
   "cell_type": "code",
   "execution_count": 47,
   "id": "0337ffc5",
   "metadata": {},
   "outputs": [
    {
     "data": {
      "text/plain": [
       "tensor([[-0.0342],\n",
       "        [-0.5330]], device='cuda:0', grad_fn=<AddmmBackward0>)"
      ]
     },
     "execution_count": 47,
     "metadata": {},
     "output_type": "execute_result"
    }
   ],
   "source": [
    "net = nn.Sequential(nn.Linear(3,1))\n",
    "net = net.to(device=get_gpu())\n",
    "net(Y)#将模型参数放在gpu上面，同时也要保证输入数据也在gpu上面"
   ]
  },
  {
   "cell_type": "code",
   "execution_count": 50,
   "id": "164dcb73",
   "metadata": {},
   "outputs": [
    {
     "data": {
      "text/plain": [
       "device(type='cuda', index=0)"
      ]
     },
     "execution_count": 50,
     "metadata": {},
     "output_type": "execute_result"
    }
   ],
   "source": [
    "net[0].weight.data.device #查看模型参数存储在哪个设备上面"
   ]
  },
  {
   "cell_type": "code",
   "execution_count": null,
   "id": "20815b11",
   "metadata": {},
   "outputs": [],
   "source": []
  }
 ],
 "metadata": {
  "kernelspec": {
   "display_name": "Python [conda env:pytorch1.11] *",
   "language": "python",
   "name": "conda-env-pytorch1.11-py"
  },
  "language_info": {
   "codemirror_mode": {
    "name": "ipython",
    "version": 3
   },
   "file_extension": ".py",
   "mimetype": "text/x-python",
   "name": "python",
   "nbconvert_exporter": "python",
   "pygments_lexer": "ipython3",
   "version": "3.7.13"
  }
 },
 "nbformat": 4,
 "nbformat_minor": 5
}
